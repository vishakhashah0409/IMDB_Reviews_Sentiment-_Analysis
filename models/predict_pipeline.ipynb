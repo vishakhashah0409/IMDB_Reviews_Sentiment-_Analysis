{
 "cells": [
  {
   "cell_type": "code",
   "execution_count": 5,
   "id": "dcddc428",
   "metadata": {},
   "outputs": [],
   "source": [
    "import pickle\n",
    "import pandas as pd\n",
    "# Load the saved model\n",
    "#loaded_model = pickle.load(open('support_vector_machine_model.pkl', 'rb'))\n",
    "with open('support_vector_machine_model.pkl', 'rb') as f:\n",
    "    model = pickle.load(f)\n"
   ]
  },
  {
   "cell_type": "code",
   "execution_count": 6,
   "id": "42a277da",
   "metadata": {},
   "outputs": [],
   "source": [
    "import joblib\n",
    "loaded_model = joblib.load('logistic_regression_model.joblib')\n"
   ]
  },
  {
   "cell_type": "code",
   "execution_count": 7,
   "id": "2f70d59e",
   "metadata": {},
   "outputs": [],
   "source": [
    "loaded_tfidf = pickle.load(open('tfidf.pkl', 'rb'))"
   ]
  },
  {
   "cell_type": "code",
   "execution_count": 8,
   "id": "f785e6e4",
   "metadata": {},
   "outputs": [],
   "source": [
    "train_data = pd.read_csv('X_train.csv')\n"
   ]
  },
  {
   "cell_type": "code",
   "execution_count": 13,
   "id": "177a7c7b",
   "metadata": {},
   "outputs": [],
   "source": [
    "test_data = pd.read_csv('X_test.csv')\n"
   ]
  },
  {
   "cell_type": "code",
   "execution_count": null,
   "id": "7ad7c4ed",
   "metadata": {},
   "outputs": [],
   "source": [
    "valid_data = pd.read_csv('X_valid.csv')\n"
   ]
  },
  {
   "cell_type": "code",
   "execution_count": null,
   "id": "5b3f1db1",
   "metadata": {},
   "outputs": [],
   "source": []
  },
  {
   "cell_type": "code",
   "execution_count": null,
   "id": "0d2be179",
   "metadata": {},
   "outputs": [],
   "source": []
  }
 ],
 "metadata": {
  "kernelspec": {
   "display_name": "Python 3 (ipykernel)",
   "language": "python",
   "name": "python3"
  },
  "language_info": {
   "codemirror_mode": {
    "name": "ipython",
    "version": 3
   },
   "file_extension": ".py",
   "mimetype": "text/x-python",
   "name": "python",
   "nbconvert_exporter": "python",
   "pygments_lexer": "ipython3",
   "version": "3.9.7"
  }
 },
 "nbformat": 4,
 "nbformat_minor": 5
}
